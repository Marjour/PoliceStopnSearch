{
 "cells": [
  {
   "cell_type": "code",
   "execution_count": 1,
   "metadata": {},
   "outputs": [],
   "source": [
    "# RICHARD AYISI\n",
    "\n",
    "import pandas as pd\n",
    "import matplotlib.pyplot as plt\n",
    "import requests\n",
    "import json\n",
    "import urllib.request\n",
    "import tkinter as tk\n",
    "from matplotlib.backends.backend_tkagg import FigureCanvasTkAgg"
   ]
  },
  {
   "cell_type": "markdown",
   "metadata": {},
   "source": [
    "## Calling the API for the data from january till november or london"
   ]
  },
  {
   "cell_type": "code",
   "execution_count": 3,
   "metadata": {},
   "outputs": [],
   "source": [
    "january = \"https://data.police.uk/api/stops-force?force=city-of-london&date=2020-01\" \n",
    "with urllib.request.urlopen(january) as resp:\n",
    "    data=resp.read()\n",
    "    #print(data)\n",
    "    json_data=json.loads(data)\n",
    "london_january=pd.json_normalize(json_data)\n",
    "\n"
   ]
  },
  {
   "cell_type": "code",
   "execution_count": 4,
   "metadata": {},
   "outputs": [],
   "source": [
    "february = \"https://data.police.uk/api/stops-force?force=city-of-london&date=2020-02\" \n",
    "with urllib.request.urlopen(february) as resp:\n",
    "    data2=resp.read()\n",
    "    #print(data2)\n",
    "    json_data2=json.loads(data2)\n",
    "london_feb=pd.json_normalize(json_data2)"
   ]
  },
  {
   "cell_type": "code",
   "execution_count": 5,
   "metadata": {},
   "outputs": [],
   "source": [
    "march = \"https://data.police.uk/api/stops-force?force=city-of-london&date=2020-03\" \n",
    "with urllib.request.urlopen(march) as resp:\n",
    "    data3=resp.read()\n",
    "    #print(data3)\n",
    "    json_data3=json.loads(data3)\n",
    "london_mar=pd.json_normalize(json_data3)"
   ]
  },
  {
   "cell_type": "code",
   "execution_count": 6,
   "metadata": {},
   "outputs": [],
   "source": [
    "April = \"https://data.police.uk/api/stops-force?force=city-of-london&date=2020-04\" \n",
    "with urllib.request.urlopen(April) as resp:\n",
    "    data4=resp.read()\n",
    "    #print(data4)\n",
    "    json_data4=json.loads(data4)\n",
    "london_April=pd.json_normalize(json_data4)"
   ]
  },
  {
   "cell_type": "code",
   "execution_count": 7,
   "metadata": {},
   "outputs": [],
   "source": [
    "May = \"https://data.police.uk/api/stops-force?force=city-of-london&date=2020-05\" \n",
    "with urllib.request.urlopen(May) as resp:\n",
    "    data5=resp.read()\n",
    "    #print(data5)\n",
    "    json_data5=json.loads(data5)\n",
    "london_May=pd.json_normalize(json_data5)"
   ]
  },
  {
   "cell_type": "code",
   "execution_count": 8,
   "metadata": {},
   "outputs": [],
   "source": [
    "June = \"https://data.police.uk/api/stops-force?force=city-of-london&date=2020-06\" \n",
    "with urllib.request.urlopen(June) as resp:\n",
    "    data6=resp.read()\n",
    "    #print(data6)\n",
    "    json_data6=json.loads(data6)\n",
    "london_June=pd.json_normalize(json_data6)"
   ]
  },
  {
   "cell_type": "code",
   "execution_count": 9,
   "metadata": {},
   "outputs": [],
   "source": [
    "July = \"https://data.police.uk/api/stops-force?force=city-of-london&date=2020-07\" \n",
    "with urllib.request.urlopen(July) as resp:\n",
    "    data7=resp.read()\n",
    "    #print(data7)\n",
    "    json_data7=json.loads(data7)\n",
    "london_July=pd.json_normalize(json_data7)"
   ]
  },
  {
   "cell_type": "code",
   "execution_count": 10,
   "metadata": {},
   "outputs": [],
   "source": [
    "August = \"https://data.police.uk/api/stops-force?force=city-of-london&date=2020-08\" \n",
    "with urllib.request.urlopen(August) as resp:\n",
    "    data8=resp.read()\n",
    "    #print(data8)\n",
    "    json_data8=json.loads(data8)\n",
    "london_Aug=pd.json_normalize(json_data8)"
   ]
  },
  {
   "cell_type": "code",
   "execution_count": 11,
   "metadata": {},
   "outputs": [],
   "source": [
    "September = \"https://data.police.uk/api/stops-force?force=city-of-london&date=2020-09\" \n",
    "with urllib.request.urlopen(September) as resp:\n",
    "    data9=resp.read()\n",
    "    #print(data9)\n",
    "    json_data9=json.loads(data9)\n",
    "london_Sep=pd.json_normalize(json_data9)"
   ]
  },
  {
   "cell_type": "code",
   "execution_count": 12,
   "metadata": {},
   "outputs": [],
   "source": [
    "October = \"https://data.police.uk/api/stops-force?force=city-of-london&date=2020-10\" \n",
    "with urllib.request.urlopen(October) as resp:\n",
    "    data10=resp.read()\n",
    "    #print(data10)\n",
    "    json_data10=json.loads(data10)\n",
    "london_oct=pd.json_normalize(json_data10)"
   ]
  },
  {
   "cell_type": "code",
   "execution_count": 13,
   "metadata": {},
   "outputs": [],
   "source": [
    "November= \"https://data.police.uk/api/stops-force?force=city-of-london&date=2020-11\" \n",
    "with urllib.request.urlopen(November) as resp:\n",
    "    data11=resp.read()\n",
    "    #print(data11)\n",
    "    json_data11=json.loads(data11)\n",
    "london_nov=pd.json_normalize(json_data11)"
   ]
  },
  {
   "cell_type": "markdown",
   "metadata": {},
   "source": [
    "## Checking the first five rows of the data after putting them together"
   ]
  },
  {
   "cell_type": "code",
   "execution_count": 14,
   "metadata": {},
   "outputs": [
    {
     "data": {
      "text/html": [
       "<div>\n",
       "<style scoped>\n",
       "    .dataframe tbody tr th:only-of-type {\n",
       "        vertical-align: middle;\n",
       "    }\n",
       "\n",
       "    .dataframe tbody tr th {\n",
       "        vertical-align: top;\n",
       "    }\n",
       "\n",
       "    .dataframe thead th {\n",
       "        text-align: right;\n",
       "    }\n",
       "</style>\n",
       "<table border=\"1\" class=\"dataframe\">\n",
       "  <thead>\n",
       "    <tr style=\"text-align: right;\">\n",
       "      <th></th>\n",
       "      <th>age_range</th>\n",
       "      <th>outcome</th>\n",
       "      <th>involved_person</th>\n",
       "      <th>self_defined_ethnicity</th>\n",
       "      <th>gender</th>\n",
       "      <th>legislation</th>\n",
       "      <th>outcome_linked_to_object_of_search</th>\n",
       "      <th>datetime</th>\n",
       "      <th>removal_of_more_than_outer_clothing</th>\n",
       "      <th>location</th>\n",
       "      <th>...</th>\n",
       "      <th>officer_defined_ethnicity</th>\n",
       "      <th>type</th>\n",
       "      <th>operation_name</th>\n",
       "      <th>object_of_search</th>\n",
       "      <th>outcome_object.id</th>\n",
       "      <th>outcome_object.name</th>\n",
       "      <th>location.latitude</th>\n",
       "      <th>location.street.id</th>\n",
       "      <th>location.street.name</th>\n",
       "      <th>location.longitude</th>\n",
       "    </tr>\n",
       "  </thead>\n",
       "  <tbody>\n",
       "    <tr>\n",
       "      <th>0</th>\n",
       "      <td>18-24</td>\n",
       "      <td>A no further action disposal</td>\n",
       "      <td>True</td>\n",
       "      <td>Other ethnic group - Any other ethnic group</td>\n",
       "      <td>Male</td>\n",
       "      <td>Police and Criminal Evidence Act 1984 (section 1)</td>\n",
       "      <td>False</td>\n",
       "      <td>2020-01-01T02:53:14+00:00</td>\n",
       "      <td>False</td>\n",
       "      <td>NaN</td>\n",
       "      <td>...</td>\n",
       "      <td>White</td>\n",
       "      <td>Person search</td>\n",
       "      <td>None</td>\n",
       "      <td>Stolen goods</td>\n",
       "      <td>bu-no-further-action</td>\n",
       "      <td>A no further action disposal</td>\n",
       "      <td>NaN</td>\n",
       "      <td>NaN</td>\n",
       "      <td>NaN</td>\n",
       "      <td>NaN</td>\n",
       "    </tr>\n",
       "    <tr>\n",
       "      <th>1</th>\n",
       "      <td>10-17</td>\n",
       "      <td>A no further action disposal</td>\n",
       "      <td>True</td>\n",
       "      <td>Other ethnic group - Not stated</td>\n",
       "      <td>Male</td>\n",
       "      <td>Misuse of Drugs Act 1971 (section 23)</td>\n",
       "      <td>False</td>\n",
       "      <td>2020-01-01T05:08:30+00:00</td>\n",
       "      <td>False</td>\n",
       "      <td>NaN</td>\n",
       "      <td>...</td>\n",
       "      <td>Black</td>\n",
       "      <td>Person search</td>\n",
       "      <td>None</td>\n",
       "      <td>Controlled drugs</td>\n",
       "      <td>bu-no-further-action</td>\n",
       "      <td>A no further action disposal</td>\n",
       "      <td>51.512598</td>\n",
       "      <td>587443.0</td>\n",
       "      <td>On or near Bell Inn Yard</td>\n",
       "      <td>-0.084967</td>\n",
       "    </tr>\n",
       "    <tr>\n",
       "      <th>2</th>\n",
       "      <td>10-17</td>\n",
       "      <td>A no further action disposal</td>\n",
       "      <td>True</td>\n",
       "      <td>Black/African/Caribbean/Black British - African</td>\n",
       "      <td>Male</td>\n",
       "      <td>Misuse of Drugs Act 1971 (section 23)</td>\n",
       "      <td>False</td>\n",
       "      <td>2020-01-01T05:10:30+00:00</td>\n",
       "      <td>False</td>\n",
       "      <td>NaN</td>\n",
       "      <td>...</td>\n",
       "      <td>Black</td>\n",
       "      <td>Person search</td>\n",
       "      <td>None</td>\n",
       "      <td>Controlled drugs</td>\n",
       "      <td>bu-no-further-action</td>\n",
       "      <td>A no further action disposal</td>\n",
       "      <td>51.512598</td>\n",
       "      <td>587443.0</td>\n",
       "      <td>On or near Bell Inn Yard</td>\n",
       "      <td>-0.084967</td>\n",
       "    </tr>\n",
       "    <tr>\n",
       "      <th>3</th>\n",
       "      <td>10-17</td>\n",
       "      <td>A no further action disposal</td>\n",
       "      <td>True</td>\n",
       "      <td>Other ethnic group - Not stated</td>\n",
       "      <td>Male</td>\n",
       "      <td>Misuse of Drugs Act 1971 (section 23)</td>\n",
       "      <td>False</td>\n",
       "      <td>2020-01-01T05:26:13+00:00</td>\n",
       "      <td>False</td>\n",
       "      <td>NaN</td>\n",
       "      <td>...</td>\n",
       "      <td>Black</td>\n",
       "      <td>Person search</td>\n",
       "      <td>None</td>\n",
       "      <td>Controlled drugs</td>\n",
       "      <td>bu-no-further-action</td>\n",
       "      <td>A no further action disposal</td>\n",
       "      <td>51.512598</td>\n",
       "      <td>587443.0</td>\n",
       "      <td>On or near Bell Inn Yard</td>\n",
       "      <td>-0.084967</td>\n",
       "    </tr>\n",
       "    <tr>\n",
       "      <th>4</th>\n",
       "      <td>18-24</td>\n",
       "      <td>A no further action disposal</td>\n",
       "      <td>True</td>\n",
       "      <td>Other ethnic group - Not stated</td>\n",
       "      <td>Male</td>\n",
       "      <td>Police and Criminal Evidence Act 1984 (section 1)</td>\n",
       "      <td>False</td>\n",
       "      <td>2020-01-01T05:32:02+00:00</td>\n",
       "      <td>False</td>\n",
       "      <td>NaN</td>\n",
       "      <td>...</td>\n",
       "      <td>Asian</td>\n",
       "      <td>Person search</td>\n",
       "      <td>None</td>\n",
       "      <td>Offensive weapons</td>\n",
       "      <td>bu-no-further-action</td>\n",
       "      <td>A no further action disposal</td>\n",
       "      <td>51.512745</td>\n",
       "      <td>587403.0</td>\n",
       "      <td>On or near Mansion House Place</td>\n",
       "      <td>-0.089040</td>\n",
       "    </tr>\n",
       "  </tbody>\n",
       "</table>\n",
       "<p>5 rows × 21 columns</p>\n",
       "</div>"
      ],
      "text/plain": [
       "  age_range                       outcome  involved_person  \\\n",
       "0     18-24  A no further action disposal             True   \n",
       "1     10-17  A no further action disposal             True   \n",
       "2     10-17  A no further action disposal             True   \n",
       "3     10-17  A no further action disposal             True   \n",
       "4     18-24  A no further action disposal             True   \n",
       "\n",
       "                            self_defined_ethnicity gender  \\\n",
       "0      Other ethnic group - Any other ethnic group   Male   \n",
       "1                  Other ethnic group - Not stated   Male   \n",
       "2  Black/African/Caribbean/Black British - African   Male   \n",
       "3                  Other ethnic group - Not stated   Male   \n",
       "4                  Other ethnic group - Not stated   Male   \n",
       "\n",
       "                                         legislation  \\\n",
       "0  Police and Criminal Evidence Act 1984 (section 1)   \n",
       "1              Misuse of Drugs Act 1971 (section 23)   \n",
       "2              Misuse of Drugs Act 1971 (section 23)   \n",
       "3              Misuse of Drugs Act 1971 (section 23)   \n",
       "4  Police and Criminal Evidence Act 1984 (section 1)   \n",
       "\n",
       "   outcome_linked_to_object_of_search                   datetime  \\\n",
       "0                               False  2020-01-01T02:53:14+00:00   \n",
       "1                               False  2020-01-01T05:08:30+00:00   \n",
       "2                               False  2020-01-01T05:10:30+00:00   \n",
       "3                               False  2020-01-01T05:26:13+00:00   \n",
       "4                               False  2020-01-01T05:32:02+00:00   \n",
       "\n",
       "   removal_of_more_than_outer_clothing  location  ...  \\\n",
       "0                                False       NaN  ...   \n",
       "1                                False       NaN  ...   \n",
       "2                                False       NaN  ...   \n",
       "3                                False       NaN  ...   \n",
       "4                                False       NaN  ...   \n",
       "\n",
       "  officer_defined_ethnicity           type operation_name   object_of_search  \\\n",
       "0                     White  Person search           None       Stolen goods   \n",
       "1                     Black  Person search           None   Controlled drugs   \n",
       "2                     Black  Person search           None   Controlled drugs   \n",
       "3                     Black  Person search           None   Controlled drugs   \n",
       "4                     Asian  Person search           None  Offensive weapons   \n",
       "\n",
       "      outcome_object.id           outcome_object.name location.latitude  \\\n",
       "0  bu-no-further-action  A no further action disposal               NaN   \n",
       "1  bu-no-further-action  A no further action disposal         51.512598   \n",
       "2  bu-no-further-action  A no further action disposal         51.512598   \n",
       "3  bu-no-further-action  A no further action disposal         51.512598   \n",
       "4  bu-no-further-action  A no further action disposal         51.512745   \n",
       "\n",
       "  location.street.id            location.street.name location.longitude  \n",
       "0                NaN                             NaN                NaN  \n",
       "1           587443.0        On or near Bell Inn Yard          -0.084967  \n",
       "2           587443.0        On or near Bell Inn Yard          -0.084967  \n",
       "3           587443.0        On or near Bell Inn Yard          -0.084967  \n",
       "4           587403.0  On or near Mansion House Place          -0.089040  \n",
       "\n",
       "[5 rows x 21 columns]"
      ]
     },
     "execution_count": 14,
     "metadata": {},
     "output_type": "execute_result"
    }
   ],
   "source": [
    "London_data=pd.concat([london_january,london_feb,london_mar,london_April,london_May,london_June,london_July,london_Aug,london_Sep,london_oct,london_nov],axis=0, ignore_index=True)\n",
    "London_data.head(5)\n"
   ]
  },
  {
   "cell_type": "code",
   "execution_count": 26,
   "metadata": {},
   "outputs": [
    {
     "data": {
      "text/plain": [
       "(2824, 21)"
      ]
     },
     "execution_count": 26,
     "metadata": {},
     "output_type": "execute_result"
    }
   ],
   "source": [
    "London_data.shape"
   ]
  },
  {
   "cell_type": "code",
   "execution_count": 15,
   "metadata": {},
   "outputs": [
    {
     "data": {
      "text/plain": [
       "Index(['age_range', 'outcome', 'involved_person', 'self_defined_ethnicity',\n",
       "       'gender', 'legislation', 'outcome_linked_to_object_of_search',\n",
       "       'datetime', 'removal_of_more_than_outer_clothing', 'location',\n",
       "       'operation', 'officer_defined_ethnicity', 'type', 'operation_name',\n",
       "       'object_of_search', 'outcome_object.id', 'outcome_object.name',\n",
       "       'location.latitude', 'location.street.id', 'location.street.name',\n",
       "       'location.longitude'],\n",
       "      dtype='object')"
      ]
     },
     "execution_count": 15,
     "metadata": {},
     "output_type": "execute_result"
    }
   ],
   "source": [
    "London_data.columns\n"
   ]
  },
  {
   "cell_type": "markdown",
   "metadata": {},
   "source": [
    "## Checking for Null in the data"
   ]
  },
  {
   "cell_type": "code",
   "execution_count": 28,
   "metadata": {},
   "outputs": [
    {
     "data": {
      "text/plain": [
       "age_range                               152\n",
       "outcome                                   0\n",
       "involved_person                           0\n",
       "self_defined_ethnicity                  117\n",
       "gender                                    1\n",
       "legislation                               0\n",
       "outcome_linked_to_object_of_search        0\n",
       "datetime                                  0\n",
       "removal_of_more_than_outer_clothing       0\n",
       "location                               2824\n",
       "operation                              2824\n",
       "officer_defined_ethnicity               120\n",
       "type                                      0\n",
       "operation_name                         2824\n",
       "object_of_search                         18\n",
       "outcome_object.id                         0\n",
       "outcome_object.name                       0\n",
       "location.latitude                       619\n",
       "location.street.id                      619\n",
       "location.street.name                    619\n",
       "location.longitude                      619\n",
       "dtype: int64"
      ]
     },
     "execution_count": 28,
     "metadata": {},
     "output_type": "execute_result"
    }
   ],
   "source": [
    "London_data.isnull().sum()"
   ]
  },
  {
   "cell_type": "markdown",
   "metadata": {},
   "source": [
    "## Dropping columns"
   ]
  },
  {
   "cell_type": "code",
   "execution_count": 14,
   "metadata": {},
   "outputs": [
    {
     "data": {
      "text/html": [
       "<div>\n",
       "<style scoped>\n",
       "    .dataframe tbody tr th:only-of-type {\n",
       "        vertical-align: middle;\n",
       "    }\n",
       "\n",
       "    .dataframe tbody tr th {\n",
       "        vertical-align: top;\n",
       "    }\n",
       "\n",
       "    .dataframe thead th {\n",
       "        text-align: right;\n",
       "    }\n",
       "</style>\n",
       "<table border=\"1\" class=\"dataframe\">\n",
       "  <thead>\n",
       "    <tr style=\"text-align: right;\">\n",
       "      <th></th>\n",
       "      <th>age_range</th>\n",
       "      <th>outcome</th>\n",
       "      <th>involved_person</th>\n",
       "      <th>self_defined_ethnicity</th>\n",
       "      <th>gender</th>\n",
       "      <th>legislation</th>\n",
       "      <th>outcome_linked_to_object_of_search</th>\n",
       "      <th>datetime</th>\n",
       "      <th>removal_of_more_than_outer_clothing</th>\n",
       "      <th>officer_defined_ethnicity</th>\n",
       "      <th>type</th>\n",
       "      <th>object_of_search</th>\n",
       "      <th>outcome_object.id</th>\n",
       "      <th>outcome_object.name</th>\n",
       "    </tr>\n",
       "  </thead>\n",
       "  <tbody>\n",
       "    <tr>\n",
       "      <th>0</th>\n",
       "      <td>18-24</td>\n",
       "      <td>A no further action disposal</td>\n",
       "      <td>True</td>\n",
       "      <td>Other ethnic group - Any other ethnic group</td>\n",
       "      <td>Male</td>\n",
       "      <td>Police and Criminal Evidence Act 1984 (section 1)</td>\n",
       "      <td>False</td>\n",
       "      <td>2020-01-01T02:53:14+00:00</td>\n",
       "      <td>False</td>\n",
       "      <td>White</td>\n",
       "      <td>Person search</td>\n",
       "      <td>Stolen goods</td>\n",
       "      <td>bu-no-further-action</td>\n",
       "      <td>A no further action disposal</td>\n",
       "    </tr>\n",
       "    <tr>\n",
       "      <th>1</th>\n",
       "      <td>10-17</td>\n",
       "      <td>A no further action disposal</td>\n",
       "      <td>True</td>\n",
       "      <td>Other ethnic group - Not stated</td>\n",
       "      <td>Male</td>\n",
       "      <td>Misuse of Drugs Act 1971 (section 23)</td>\n",
       "      <td>False</td>\n",
       "      <td>2020-01-01T05:08:30+00:00</td>\n",
       "      <td>False</td>\n",
       "      <td>Black</td>\n",
       "      <td>Person search</td>\n",
       "      <td>Controlled drugs</td>\n",
       "      <td>bu-no-further-action</td>\n",
       "      <td>A no further action disposal</td>\n",
       "    </tr>\n",
       "    <tr>\n",
       "      <th>2</th>\n",
       "      <td>10-17</td>\n",
       "      <td>A no further action disposal</td>\n",
       "      <td>True</td>\n",
       "      <td>Black/African/Caribbean/Black British - African</td>\n",
       "      <td>Male</td>\n",
       "      <td>Misuse of Drugs Act 1971 (section 23)</td>\n",
       "      <td>False</td>\n",
       "      <td>2020-01-01T05:10:30+00:00</td>\n",
       "      <td>False</td>\n",
       "      <td>Black</td>\n",
       "      <td>Person search</td>\n",
       "      <td>Controlled drugs</td>\n",
       "      <td>bu-no-further-action</td>\n",
       "      <td>A no further action disposal</td>\n",
       "    </tr>\n",
       "    <tr>\n",
       "      <th>3</th>\n",
       "      <td>10-17</td>\n",
       "      <td>A no further action disposal</td>\n",
       "      <td>True</td>\n",
       "      <td>Other ethnic group - Not stated</td>\n",
       "      <td>Male</td>\n",
       "      <td>Misuse of Drugs Act 1971 (section 23)</td>\n",
       "      <td>False</td>\n",
       "      <td>2020-01-01T05:26:13+00:00</td>\n",
       "      <td>False</td>\n",
       "      <td>Black</td>\n",
       "      <td>Person search</td>\n",
       "      <td>Controlled drugs</td>\n",
       "      <td>bu-no-further-action</td>\n",
       "      <td>A no further action disposal</td>\n",
       "    </tr>\n",
       "    <tr>\n",
       "      <th>4</th>\n",
       "      <td>18-24</td>\n",
       "      <td>A no further action disposal</td>\n",
       "      <td>True</td>\n",
       "      <td>Other ethnic group - Not stated</td>\n",
       "      <td>Male</td>\n",
       "      <td>Police and Criminal Evidence Act 1984 (section 1)</td>\n",
       "      <td>False</td>\n",
       "      <td>2020-01-01T05:32:02+00:00</td>\n",
       "      <td>False</td>\n",
       "      <td>Asian</td>\n",
       "      <td>Person search</td>\n",
       "      <td>Offensive weapons</td>\n",
       "      <td>bu-no-further-action</td>\n",
       "      <td>A no further action disposal</td>\n",
       "    </tr>\n",
       "  </tbody>\n",
       "</table>\n",
       "</div>"
      ],
      "text/plain": [
       "  age_range                       outcome  involved_person  \\\n",
       "0     18-24  A no further action disposal             True   \n",
       "1     10-17  A no further action disposal             True   \n",
       "2     10-17  A no further action disposal             True   \n",
       "3     10-17  A no further action disposal             True   \n",
       "4     18-24  A no further action disposal             True   \n",
       "\n",
       "                            self_defined_ethnicity gender  \\\n",
       "0      Other ethnic group - Any other ethnic group   Male   \n",
       "1                  Other ethnic group - Not stated   Male   \n",
       "2  Black/African/Caribbean/Black British - African   Male   \n",
       "3                  Other ethnic group - Not stated   Male   \n",
       "4                  Other ethnic group - Not stated   Male   \n",
       "\n",
       "                                         legislation  \\\n",
       "0  Police and Criminal Evidence Act 1984 (section 1)   \n",
       "1              Misuse of Drugs Act 1971 (section 23)   \n",
       "2              Misuse of Drugs Act 1971 (section 23)   \n",
       "3              Misuse of Drugs Act 1971 (section 23)   \n",
       "4  Police and Criminal Evidence Act 1984 (section 1)   \n",
       "\n",
       "   outcome_linked_to_object_of_search                   datetime  \\\n",
       "0                               False  2020-01-01T02:53:14+00:00   \n",
       "1                               False  2020-01-01T05:08:30+00:00   \n",
       "2                               False  2020-01-01T05:10:30+00:00   \n",
       "3                               False  2020-01-01T05:26:13+00:00   \n",
       "4                               False  2020-01-01T05:32:02+00:00   \n",
       "\n",
       "   removal_of_more_than_outer_clothing officer_defined_ethnicity  \\\n",
       "0                                False                     White   \n",
       "1                                False                     Black   \n",
       "2                                False                     Black   \n",
       "3                                False                     Black   \n",
       "4                                False                     Asian   \n",
       "\n",
       "            type   object_of_search     outcome_object.id  \\\n",
       "0  Person search       Stolen goods  bu-no-further-action   \n",
       "1  Person search   Controlled drugs  bu-no-further-action   \n",
       "2  Person search   Controlled drugs  bu-no-further-action   \n",
       "3  Person search   Controlled drugs  bu-no-further-action   \n",
       "4  Person search  Offensive weapons  bu-no-further-action   \n",
       "\n",
       "            outcome_object.name  \n",
       "0  A no further action disposal  \n",
       "1  A no further action disposal  \n",
       "2  A no further action disposal  \n",
       "3  A no further action disposal  \n",
       "4  A no further action disposal  "
      ]
     },
     "execution_count": 14,
     "metadata": {},
     "output_type": "execute_result"
    }
   ],
   "source": [
    "London_data.drop(['operation','location','operation_name'],axis=1, inplace=True)\n",
    "London_data.drop(['location.street.id','location.street.name','location.latitude','location.longitude'],axis=1, inplace=True)\n",
    "London_data.head(5)"
   ]
  },
  {
   "cell_type": "code",
   "execution_count": 30,
   "metadata": {},
   "outputs": [
    {
     "data": {
      "text/plain": [
       "age_range                              152\n",
       "outcome                                  0\n",
       "involved_person                          0\n",
       "self_defined_ethnicity                 117\n",
       "gender                                   1\n",
       "legislation                              0\n",
       "outcome_linked_to_object_of_search       0\n",
       "datetime                                 0\n",
       "removal_of_more_than_outer_clothing      0\n",
       "officer_defined_ethnicity              120\n",
       "type                                     0\n",
       "object_of_search                        18\n",
       "outcome_object.id                        0\n",
       "outcome_object.name                      0\n",
       "dtype: int64"
      ]
     },
     "execution_count": 30,
     "metadata": {},
     "output_type": "execute_result"
    }
   ],
   "source": [
    "London_data.isnull().sum()"
   ]
  },
  {
   "cell_type": "markdown",
   "metadata": {},
   "source": [
    "## Replacing null values"
   ]
  },
  {
   "cell_type": "code",
   "execution_count": 16,
   "metadata": {},
   "outputs": [],
   "source": [
    "London_data['age_range'].fillna('not assigned', inplace=True)\n",
    "London_data['self_defined_ethnicity'].fillna('unknown', inplace=True)\n",
    "London_data['officer_defined_ethnicity'].fillna('unknown', inplace=True)\n",
    "London_data['object_of_search'].fillna('not stated', inplace=True)"
   ]
  },
  {
   "cell_type": "code",
   "execution_count": 16,
   "metadata": {},
   "outputs": [
    {
     "data": {
      "text/plain": [
       "age_range                              0\n",
       "outcome                                0\n",
       "involved_person                        0\n",
       "self_defined_ethnicity                 0\n",
       "gender                                 1\n",
       "legislation                            0\n",
       "outcome_linked_to_object_of_search     0\n",
       "datetime                               0\n",
       "removal_of_more_than_outer_clothing    0\n",
       "officer_defined_ethnicity              0\n",
       "type                                   0\n",
       "object_of_search                       0\n",
       "outcome_object.id                      0\n",
       "outcome_object.name                    0\n",
       "dtype: int64"
      ]
     },
     "execution_count": 16,
     "metadata": {},
     "output_type": "execute_result"
    }
   ],
   "source": [
    "London_data.isnull().sum()"
   ]
  },
  {
   "cell_type": "code",
   "execution_count": 17,
   "metadata": {},
   "outputs": [],
   "source": [
    "London_data.dropna(axis=0, inplace=True)"
   ]
  },
  {
   "cell_type": "code",
   "execution_count": 18,
   "metadata": {},
   "outputs": [
    {
     "data": {
      "text/plain": [
       "age_range                              0\n",
       "outcome                                0\n",
       "involved_person                        0\n",
       "self_defined_ethnicity                 0\n",
       "gender                                 0\n",
       "legislation                            0\n",
       "outcome_linked_to_object_of_search     0\n",
       "datetime                               0\n",
       "removal_of_more_than_outer_clothing    0\n",
       "officer_defined_ethnicity              0\n",
       "type                                   0\n",
       "object_of_search                       0\n",
       "outcome_object.id                      0\n",
       "outcome_object.name                    0\n",
       "dtype: int64"
      ]
     },
     "execution_count": 18,
     "metadata": {},
     "output_type": "execute_result"
    }
   ],
   "source": [
    "London_data.isnull().sum()"
   ]
  },
  {
   "cell_type": "markdown",
   "metadata": {},
   "source": [
    "## Changing date from strict to normal date value"
   ]
  },
  {
   "cell_type": "code",
   "execution_count": 19,
   "metadata": {},
   "outputs": [],
   "source": [
    "London_data['datetime']=pd.to_datetime(London_data.loc[0,'datetime'])"
   ]
  },
  {
   "cell_type": "code",
   "execution_count": 38,
   "metadata": {},
   "outputs": [
    {
     "data": {
      "text/html": [
       "<div>\n",
       "<style scoped>\n",
       "    .dataframe tbody tr th:only-of-type {\n",
       "        vertical-align: middle;\n",
       "    }\n",
       "\n",
       "    .dataframe tbody tr th {\n",
       "        vertical-align: top;\n",
       "    }\n",
       "\n",
       "    .dataframe thead th {\n",
       "        text-align: right;\n",
       "    }\n",
       "</style>\n",
       "<table border=\"1\" class=\"dataframe\">\n",
       "  <thead>\n",
       "    <tr style=\"text-align: right;\">\n",
       "      <th></th>\n",
       "      <th>age_range</th>\n",
       "      <th>outcome</th>\n",
       "      <th>involved_person</th>\n",
       "      <th>self_defined_ethnicity</th>\n",
       "      <th>gender</th>\n",
       "      <th>legislation</th>\n",
       "      <th>outcome_linked_to_object_of_search</th>\n",
       "      <th>datetime</th>\n",
       "      <th>removal_of_more_than_outer_clothing</th>\n",
       "      <th>officer_defined_ethnicity</th>\n",
       "      <th>type</th>\n",
       "      <th>object_of_search</th>\n",
       "      <th>outcome_object.id</th>\n",
       "      <th>outcome_object.name</th>\n",
       "    </tr>\n",
       "  </thead>\n",
       "  <tbody>\n",
       "    <tr>\n",
       "      <th>0</th>\n",
       "      <td>18-24</td>\n",
       "      <td>A no further action disposal</td>\n",
       "      <td>True</td>\n",
       "      <td>Other ethnic group - Any other ethnic group</td>\n",
       "      <td>Male</td>\n",
       "      <td>Police and Criminal Evidence Act 1984 (section 1)</td>\n",
       "      <td>False</td>\n",
       "      <td>2020-01-01 02:53:14+00:00</td>\n",
       "      <td>False</td>\n",
       "      <td>White</td>\n",
       "      <td>Person search</td>\n",
       "      <td>Stolen goods</td>\n",
       "      <td>bu-no-further-action</td>\n",
       "      <td>A no further action disposal</td>\n",
       "    </tr>\n",
       "    <tr>\n",
       "      <th>1</th>\n",
       "      <td>10-17</td>\n",
       "      <td>A no further action disposal</td>\n",
       "      <td>True</td>\n",
       "      <td>Other ethnic group - Not stated</td>\n",
       "      <td>Male</td>\n",
       "      <td>Misuse of Drugs Act 1971 (section 23)</td>\n",
       "      <td>False</td>\n",
       "      <td>2020-01-01 02:53:14+00:00</td>\n",
       "      <td>False</td>\n",
       "      <td>Black</td>\n",
       "      <td>Person search</td>\n",
       "      <td>Controlled drugs</td>\n",
       "      <td>bu-no-further-action</td>\n",
       "      <td>A no further action disposal</td>\n",
       "    </tr>\n",
       "    <tr>\n",
       "      <th>2</th>\n",
       "      <td>10-17</td>\n",
       "      <td>A no further action disposal</td>\n",
       "      <td>True</td>\n",
       "      <td>Black/African/Caribbean/Black British - African</td>\n",
       "      <td>Male</td>\n",
       "      <td>Misuse of Drugs Act 1971 (section 23)</td>\n",
       "      <td>False</td>\n",
       "      <td>2020-01-01 02:53:14+00:00</td>\n",
       "      <td>False</td>\n",
       "      <td>Black</td>\n",
       "      <td>Person search</td>\n",
       "      <td>Controlled drugs</td>\n",
       "      <td>bu-no-further-action</td>\n",
       "      <td>A no further action disposal</td>\n",
       "    </tr>\n",
       "    <tr>\n",
       "      <th>3</th>\n",
       "      <td>10-17</td>\n",
       "      <td>A no further action disposal</td>\n",
       "      <td>True</td>\n",
       "      <td>Other ethnic group - Not stated</td>\n",
       "      <td>Male</td>\n",
       "      <td>Misuse of Drugs Act 1971 (section 23)</td>\n",
       "      <td>False</td>\n",
       "      <td>2020-01-01 02:53:14+00:00</td>\n",
       "      <td>False</td>\n",
       "      <td>Black</td>\n",
       "      <td>Person search</td>\n",
       "      <td>Controlled drugs</td>\n",
       "      <td>bu-no-further-action</td>\n",
       "      <td>A no further action disposal</td>\n",
       "    </tr>\n",
       "    <tr>\n",
       "      <th>4</th>\n",
       "      <td>18-24</td>\n",
       "      <td>A no further action disposal</td>\n",
       "      <td>True</td>\n",
       "      <td>Other ethnic group - Not stated</td>\n",
       "      <td>Male</td>\n",
       "      <td>Police and Criminal Evidence Act 1984 (section 1)</td>\n",
       "      <td>False</td>\n",
       "      <td>2020-01-01 02:53:14+00:00</td>\n",
       "      <td>False</td>\n",
       "      <td>Asian</td>\n",
       "      <td>Person search</td>\n",
       "      <td>Offensive weapons</td>\n",
       "      <td>bu-no-further-action</td>\n",
       "      <td>A no further action disposal</td>\n",
       "    </tr>\n",
       "  </tbody>\n",
       "</table>\n",
       "</div>"
      ],
      "text/plain": [
       "  age_range                       outcome  involved_person  \\\n",
       "0     18-24  A no further action disposal             True   \n",
       "1     10-17  A no further action disposal             True   \n",
       "2     10-17  A no further action disposal             True   \n",
       "3     10-17  A no further action disposal             True   \n",
       "4     18-24  A no further action disposal             True   \n",
       "\n",
       "                            self_defined_ethnicity gender  \\\n",
       "0      Other ethnic group - Any other ethnic group   Male   \n",
       "1                  Other ethnic group - Not stated   Male   \n",
       "2  Black/African/Caribbean/Black British - African   Male   \n",
       "3                  Other ethnic group - Not stated   Male   \n",
       "4                  Other ethnic group - Not stated   Male   \n",
       "\n",
       "                                         legislation  \\\n",
       "0  Police and Criminal Evidence Act 1984 (section 1)   \n",
       "1              Misuse of Drugs Act 1971 (section 23)   \n",
       "2              Misuse of Drugs Act 1971 (section 23)   \n",
       "3              Misuse of Drugs Act 1971 (section 23)   \n",
       "4  Police and Criminal Evidence Act 1984 (section 1)   \n",
       "\n",
       "   outcome_linked_to_object_of_search                  datetime  \\\n",
       "0                               False 2020-01-01 02:53:14+00:00   \n",
       "1                               False 2020-01-01 02:53:14+00:00   \n",
       "2                               False 2020-01-01 02:53:14+00:00   \n",
       "3                               False 2020-01-01 02:53:14+00:00   \n",
       "4                               False 2020-01-01 02:53:14+00:00   \n",
       "\n",
       "   removal_of_more_than_outer_clothing officer_defined_ethnicity  \\\n",
       "0                                False                     White   \n",
       "1                                False                     Black   \n",
       "2                                False                     Black   \n",
       "3                                False                     Black   \n",
       "4                                False                     Asian   \n",
       "\n",
       "            type   object_of_search     outcome_object.id  \\\n",
       "0  Person search       Stolen goods  bu-no-further-action   \n",
       "1  Person search   Controlled drugs  bu-no-further-action   \n",
       "2  Person search   Controlled drugs  bu-no-further-action   \n",
       "3  Person search   Controlled drugs  bu-no-further-action   \n",
       "4  Person search  Offensive weapons  bu-no-further-action   \n",
       "\n",
       "            outcome_object.name  \n",
       "0  A no further action disposal  \n",
       "1  A no further action disposal  \n",
       "2  A no further action disposal  \n",
       "3  A no further action disposal  \n",
       "4  A no further action disposal  "
      ]
     },
     "execution_count": 38,
     "metadata": {},
     "output_type": "execute_result"
    }
   ],
   "source": [
    "London_data.head(5)"
   ]
  },
  {
   "cell_type": "code",
   "execution_count": 20,
   "metadata": {},
   "outputs": [
    {
     "name": "stdout",
     "output_type": "stream",
     "text": [
      "<class 'pandas.core.frame.DataFrame'>\n",
      "Int64Index: 2823 entries, 0 to 2823\n",
      "Data columns (total 14 columns):\n",
      " #   Column                               Non-Null Count  Dtype              \n",
      "---  ------                               --------------  -----              \n",
      " 0   age_range                            2823 non-null   object             \n",
      " 1   outcome                              2823 non-null   object             \n",
      " 2   involved_person                      2823 non-null   bool               \n",
      " 3   self_defined_ethnicity               2823 non-null   object             \n",
      " 4   gender                               2823 non-null   object             \n",
      " 5   legislation                          2823 non-null   object             \n",
      " 6   outcome_linked_to_object_of_search   2823 non-null   bool               \n",
      " 7   datetime                             2823 non-null   datetime64[ns, UTC]\n",
      " 8   removal_of_more_than_outer_clothing  2823 non-null   bool               \n",
      " 9   officer_defined_ethnicity            2823 non-null   object             \n",
      " 10  type                                 2823 non-null   object             \n",
      " 11  object_of_search                     2823 non-null   object             \n",
      " 12  outcome_object.id                    2823 non-null   object             \n",
      " 13  outcome_object.name                  2823 non-null   object             \n",
      "dtypes: bool(3), datetime64[ns, UTC](1), object(10)\n",
      "memory usage: 337.5+ KB\n"
     ]
    }
   ],
   "source": [
    "London_data.info()"
   ]
  },
  {
   "cell_type": "code",
   "execution_count": 21,
   "metadata": {},
   "outputs": [],
   "source": [
    "London_data['date']=[d.date() for d in London_data['datetime']]\n"
   ]
  },
  {
   "cell_type": "code",
   "execution_count": 22,
   "metadata": {},
   "outputs": [],
   "source": [
    "London_data.drop(['datetime'],axis=1, inplace=True)"
   ]
  },
  {
   "cell_type": "code",
   "execution_count": 44,
   "metadata": {},
   "outputs": [
    {
     "data": {
      "text/html": [
       "<div>\n",
       "<style scoped>\n",
       "    .dataframe tbody tr th:only-of-type {\n",
       "        vertical-align: middle;\n",
       "    }\n",
       "\n",
       "    .dataframe tbody tr th {\n",
       "        vertical-align: top;\n",
       "    }\n",
       "\n",
       "    .dataframe thead th {\n",
       "        text-align: right;\n",
       "    }\n",
       "</style>\n",
       "<table border=\"1\" class=\"dataframe\">\n",
       "  <thead>\n",
       "    <tr style=\"text-align: right;\">\n",
       "      <th></th>\n",
       "      <th>age_range</th>\n",
       "      <th>outcome</th>\n",
       "      <th>involved_person</th>\n",
       "      <th>self_defined_ethnicity</th>\n",
       "      <th>gender</th>\n",
       "      <th>legislation</th>\n",
       "      <th>outcome_linked_to_object_of_search</th>\n",
       "      <th>removal_of_more_than_outer_clothing</th>\n",
       "      <th>officer_defined_ethnicity</th>\n",
       "      <th>type</th>\n",
       "      <th>object_of_search</th>\n",
       "      <th>outcome_object.id</th>\n",
       "      <th>outcome_object.name</th>\n",
       "      <th>date</th>\n",
       "    </tr>\n",
       "  </thead>\n",
       "  <tbody>\n",
       "    <tr>\n",
       "      <th>0</th>\n",
       "      <td>18-24</td>\n",
       "      <td>A no further action disposal</td>\n",
       "      <td>True</td>\n",
       "      <td>Other ethnic group - Any other ethnic group</td>\n",
       "      <td>Male</td>\n",
       "      <td>Police and Criminal Evidence Act 1984 (section 1)</td>\n",
       "      <td>False</td>\n",
       "      <td>False</td>\n",
       "      <td>White</td>\n",
       "      <td>Person search</td>\n",
       "      <td>Stolen goods</td>\n",
       "      <td>bu-no-further-action</td>\n",
       "      <td>A no further action disposal</td>\n",
       "      <td>2020-01-01</td>\n",
       "    </tr>\n",
       "    <tr>\n",
       "      <th>1</th>\n",
       "      <td>10-17</td>\n",
       "      <td>A no further action disposal</td>\n",
       "      <td>True</td>\n",
       "      <td>Other ethnic group - Not stated</td>\n",
       "      <td>Male</td>\n",
       "      <td>Misuse of Drugs Act 1971 (section 23)</td>\n",
       "      <td>False</td>\n",
       "      <td>False</td>\n",
       "      <td>Black</td>\n",
       "      <td>Person search</td>\n",
       "      <td>Controlled drugs</td>\n",
       "      <td>bu-no-further-action</td>\n",
       "      <td>A no further action disposal</td>\n",
       "      <td>2020-01-01</td>\n",
       "    </tr>\n",
       "    <tr>\n",
       "      <th>2</th>\n",
       "      <td>10-17</td>\n",
       "      <td>A no further action disposal</td>\n",
       "      <td>True</td>\n",
       "      <td>Black/African/Caribbean/Black British - African</td>\n",
       "      <td>Male</td>\n",
       "      <td>Misuse of Drugs Act 1971 (section 23)</td>\n",
       "      <td>False</td>\n",
       "      <td>False</td>\n",
       "      <td>Black</td>\n",
       "      <td>Person search</td>\n",
       "      <td>Controlled drugs</td>\n",
       "      <td>bu-no-further-action</td>\n",
       "      <td>A no further action disposal</td>\n",
       "      <td>2020-01-01</td>\n",
       "    </tr>\n",
       "    <tr>\n",
       "      <th>3</th>\n",
       "      <td>10-17</td>\n",
       "      <td>A no further action disposal</td>\n",
       "      <td>True</td>\n",
       "      <td>Other ethnic group - Not stated</td>\n",
       "      <td>Male</td>\n",
       "      <td>Misuse of Drugs Act 1971 (section 23)</td>\n",
       "      <td>False</td>\n",
       "      <td>False</td>\n",
       "      <td>Black</td>\n",
       "      <td>Person search</td>\n",
       "      <td>Controlled drugs</td>\n",
       "      <td>bu-no-further-action</td>\n",
       "      <td>A no further action disposal</td>\n",
       "      <td>2020-01-01</td>\n",
       "    </tr>\n",
       "    <tr>\n",
       "      <th>4</th>\n",
       "      <td>18-24</td>\n",
       "      <td>A no further action disposal</td>\n",
       "      <td>True</td>\n",
       "      <td>Other ethnic group - Not stated</td>\n",
       "      <td>Male</td>\n",
       "      <td>Police and Criminal Evidence Act 1984 (section 1)</td>\n",
       "      <td>False</td>\n",
       "      <td>False</td>\n",
       "      <td>Asian</td>\n",
       "      <td>Person search</td>\n",
       "      <td>Offensive weapons</td>\n",
       "      <td>bu-no-further-action</td>\n",
       "      <td>A no further action disposal</td>\n",
       "      <td>2020-01-01</td>\n",
       "    </tr>\n",
       "  </tbody>\n",
       "</table>\n",
       "</div>"
      ],
      "text/plain": [
       "  age_range                       outcome  involved_person  \\\n",
       "0     18-24  A no further action disposal             True   \n",
       "1     10-17  A no further action disposal             True   \n",
       "2     10-17  A no further action disposal             True   \n",
       "3     10-17  A no further action disposal             True   \n",
       "4     18-24  A no further action disposal             True   \n",
       "\n",
       "                            self_defined_ethnicity gender  \\\n",
       "0      Other ethnic group - Any other ethnic group   Male   \n",
       "1                  Other ethnic group - Not stated   Male   \n",
       "2  Black/African/Caribbean/Black British - African   Male   \n",
       "3                  Other ethnic group - Not stated   Male   \n",
       "4                  Other ethnic group - Not stated   Male   \n",
       "\n",
       "                                         legislation  \\\n",
       "0  Police and Criminal Evidence Act 1984 (section 1)   \n",
       "1              Misuse of Drugs Act 1971 (section 23)   \n",
       "2              Misuse of Drugs Act 1971 (section 23)   \n",
       "3              Misuse of Drugs Act 1971 (section 23)   \n",
       "4  Police and Criminal Evidence Act 1984 (section 1)   \n",
       "\n",
       "   outcome_linked_to_object_of_search  removal_of_more_than_outer_clothing  \\\n",
       "0                               False                                False   \n",
       "1                               False                                False   \n",
       "2                               False                                False   \n",
       "3                               False                                False   \n",
       "4                               False                                False   \n",
       "\n",
       "  officer_defined_ethnicity           type   object_of_search  \\\n",
       "0                     White  Person search       Stolen goods   \n",
       "1                     Black  Person search   Controlled drugs   \n",
       "2                     Black  Person search   Controlled drugs   \n",
       "3                     Black  Person search   Controlled drugs   \n",
       "4                     Asian  Person search  Offensive weapons   \n",
       "\n",
       "      outcome_object.id           outcome_object.name        date  \n",
       "0  bu-no-further-action  A no further action disposal  2020-01-01  \n",
       "1  bu-no-further-action  A no further action disposal  2020-01-01  \n",
       "2  bu-no-further-action  A no further action disposal  2020-01-01  \n",
       "3  bu-no-further-action  A no further action disposal  2020-01-01  \n",
       "4  bu-no-further-action  A no further action disposal  2020-01-01  "
      ]
     },
     "execution_count": 44,
     "metadata": {},
     "output_type": "execute_result"
    }
   ],
   "source": [
    "London_data.head(5)"
   ]
  },
  {
   "cell_type": "markdown",
   "metadata": {},
   "source": [
    "## Value counts for all the columns "
   ]
  },
  {
   "cell_type": "code",
   "execution_count": 30,
   "metadata": {},
   "outputs": [
    {
     "name": "stdout",
     "output_type": "stream",
     "text": [
      "18-24           982\n",
      "25-34           881\n",
      "over 34         604\n",
      "10-17           202\n",
      "not assigned    151\n",
      "under 10          3\n",
      "Name: age_range, dtype: int64\n",
      "******************************\n",
      "A no further action disposal       2118\n",
      "Arrest                              508\n",
      "Khat or Cannabis warning            149\n",
      "Community resolution                 15\n",
      "Summons / charged by post            14\n",
      "Penalty Notice for Disorder          12\n",
      "Caution (simple or conditional)       7\n",
      "Name: outcome, dtype: int64\n",
      "******************************\n",
      "Other ethnic group - Not stated                                                         1006\n",
      "White - English/Welsh/Scottish/Northern Irish/British                                    558\n",
      "White - Any other White background                                                       341\n",
      "Black/African/Caribbean/Black British - African                                          203\n",
      "Asian/Asian British - Bangladeshi                                                        148\n",
      "unknown                                                                                  117\n",
      "Black/African/Caribbean/Black British - Caribbean                                         90\n",
      "Asian/Asian British - Any other Asian background                                          83\n",
      "Asian/Asian British - Pakistani                                                           47\n",
      "Other ethnic group - Any other ethnic group                                               45\n",
      "Black/African/Caribbean/Black British - Any other Black/African/Caribbean background      38\n",
      "Mixed/Multiple ethnic groups - Any other Mixed/Multiple ethnic background                 37\n",
      "Asian/Asian British - Indian                                                              29\n",
      "White - Irish                                                                             26\n",
      "Mixed/Multiple ethnic groups - White and Black African                                    22\n",
      "Mixed/Multiple ethnic groups - White and Black Caribbean                                  19\n",
      "Mixed/Multiple ethnic groups - White and Asian                                            10\n",
      "Asian/Asian British - Chinese                                                              4\n",
      "Name: self_defined_ethnicity, dtype: int64\n",
      "******************************\n",
      "Male      2544\n",
      "Female     279\n",
      "Name: gender, dtype: int64\n",
      "******************************\n",
      "Misuse of Drugs Act 1971 (section 23)                1645\n",
      "Police and Criminal Evidence Act 1984 (section 1)    1160\n",
      "Firearms Act 1968 (section 47)                         18\n",
      "Name: legislation, dtype: int64\n",
      "******************************\n",
      "White      1341\n",
      "Black       653\n",
      "Asian       534\n",
      "Other       175\n",
      "unknown     120\n",
      "Name: officer_defined_ethnicity, dtype: int64\n",
      "******************************\n",
      "Person search                2092\n",
      "Person and Vehicle search     731\n",
      "Name: type, dtype: int64\n",
      "******************************\n",
      "Controlled drugs                       1630\n",
      "Article for use in theft                514\n",
      "Stolen goods                            384\n",
      "Offensive weapons                       167\n",
      "Evidence of offences under the Act       62\n",
      "Articles for use in criminal damage      25\n",
      "Firearms                                 20\n",
      "not stated                               18\n",
      "Fireworks                                 2\n",
      "Crossbows                                 1\n",
      "Name: object_of_search, dtype: int64\n",
      "******************************\n",
      "bu-no-further-action           2118\n",
      "bu-arrest                       508\n",
      "bu-khat-or-cannabis-warning     149\n",
      "bu-community-resolution          15\n",
      "bu-summons                       14\n",
      "bu-penalty-notice                12\n",
      "bu-caution                        7\n",
      "Name: outcome_object.id, dtype: int64\n",
      "******************************\n",
      "A no further action disposal       2118\n",
      "Arrest                              508\n",
      "Khat or Cannabis warning            149\n",
      "Community resolution                 15\n",
      "Summons / charged by post            14\n",
      "Penalty Notice for Disorder          12\n",
      "Caution (simple or conditional)       7\n",
      "Name: outcome_object.name, dtype: int64\n",
      "******************************\n",
      "2020-01-01    2823\n",
      "Name: date, dtype: int64\n",
      "******************************\n"
     ]
    }
   ],
   "source": [
    "for i in London_data.select_dtypes(\"object\"):\n",
    "    print(London_data[i].value_counts())\n",
    "    print(\"*\"*30)"
   ]
  },
  {
   "cell_type": "markdown",
   "metadata": {},
   "source": [
    "## Building graphs "
   ]
  },
  {
   "cell_type": "code",
   "execution_count": 55,
   "metadata": {},
   "outputs": [
    {
     "data": {
      "text/plain": [
       "<AxesSubplot:>"
      ]
     },
     "execution_count": 55,
     "metadata": {},
     "output_type": "execute_result"
    },
    {
     "data": {
      "image/png": "[encoded data removed]",
      "text/plain": [
       "<Figure size 432x288 with 1 Axes>"
      ]
     },
     "metadata": {
      "needs_background": "light"
     },
     "output_type": "display_data"
    }
   ],
   "source": [
    "London_data['gender'].value_counts().plot(kind='barh',color=['C0','C1'])"
   ]
  },
  {
   "cell_type": "code",
   "execution_count": 48,
   "metadata": {},
   "outputs": [
    {
     "data": {
      "text/plain": [
       "<AxesSubplot:>"
      ]
     },
     "execution_count": 48,
     "metadata": {},
     "output_type": "execute_result"
    },
    {
     "data": {
      "image/png": "[encoded data removed]",
      "text/plain": [
       "<Figure size 432x288 with 1 Axes>"
      ]
     },
     "metadata": {
      "needs_background": "light"
     },
     "output_type": "display_data"
    }
   ],
   "source": [
    "London_data['self_defined_ethnicity'].value_counts().plot(kind='barh')"
   ]
  },
  {
   "cell_type": "code",
   "execution_count": 50,
   "metadata": {},
   "outputs": [
    {
     "data": {
      "text/plain": [
       "<AxesSubplot:>"
      ]
     },
     "execution_count": 50,
     "metadata": {},
     "output_type": "execute_result"
    },
    {
     "data": {
      "image/png": "[encoded data removed]",
      "text/plain": [
       "<Figure size 432x288 with 1 Axes>"
      ]
     },
     "metadata": {
      "needs_background": "light"
     },
     "output_type": "display_data"
    }
   ],
   "source": [
    "London_data['age_range'].value_counts().plot(kind='line')"
   ]
  },
  {
   "cell_type": "code",
   "execution_count": 54,
   "metadata": {},
   "outputs": [
    {
     "data": {
      "text/plain": [
       "Text(0.5, 1.0, 'clothes removed')"
      ]
     },
     "execution_count": 54,
     "metadata": {},
     "output_type": "execute_result"
    },
    {
     "data": {
      "image/png": "[encoded data removed]",
      "text/plain": [
       "<Figure size 720x288 with 2 Axes>"
      ]
     },
     "metadata": {
      "needs_background": "light"
     },
     "output_type": "display_data"
    }
   ],
   "source": [
    "plt.figure(figsize=(10,4))\n",
    "plt.subplot(1,2,1);London_data['outcome_linked_to_object_of_search'].value_counts().plot(kind='bar', color=['C0','C1']);plt.title('result linked to search')\n",
    "plt.subplot(1,2,2);London_data['removal_of_more_than_outer_clothing'].value_counts().plot(kind='bar',color=['C2','C3']);plt.title('clothes removed')"
   ]
  },
  {
   "cell_type": "code",
   "execution_count": 25,
   "metadata": {},
   "outputs": [
    {
     "data": {
      "text/plain": [
       "Text(0.5, 1.0, 'Object of search')"
      ]
     },
     "execution_count": 25,
     "metadata": {},
     "output_type": "execute_result"
    },
    {
     "data": {
      "image/png": "[encoded data removed]",
      "text/plain": [
       "<Figure size 432x288 with 1 Axes>"
      ]
     },
     "metadata": {
      "needs_background": "light"
     },
     "output_type": "display_data"
    }
   ],
   "source": [
    "London_data['object_of_search'].value_counts().plot(kind='barh',color=['C0','C1','C2','C3','C4','C5','C6','C7','C8']);plt.title('Object of search')"
   ]
  },
  {
   "cell_type": "code",
   "execution_count": 29,
   "metadata": {},
   "outputs": [
    {
     "data": {
      "text/plain": [
       "Text(0.5, 1.0, 'Outcome after search')"
      ]
     },
     "execution_count": 29,
     "metadata": {},
     "output_type": "execute_result"
    },
    {
     "data": {
      "image/png": "[encoded data removed]",
      "text/plain": [
       "<Figure size 432x288 with 1 Axes>"
      ]
     },
     "metadata": {
      "needs_background": "light"
     },
     "output_type": "display_data"
    }
   ],
   "source": [
    "London_data['outcome'].value_counts().plot(kind='barh',color=['C0','C1','C2','C3','C4','C5','C6','C7','C8']);plt.title('Outcome after search')"
   ]
  },
  {
   "cell_type": "markdown",
   "metadata": {},
   "source": [
    "## Putting graphs in GUI"
   ]
  },
  {
   "cell_type": "code",
   "execution_count": 19,
   "metadata": {},
   "outputs": [],
   "source": [
    "root = tk.Tk()\n",
    "root.title('Visualisation of London stop and search data')\n",
    "\n",
    "graph1=plt.Figure(figsize=(6,5), dpi=100)\n",
    "ax1=graph1.add_subplot(111)\n",
    "chart1=FigureCanvasTkAgg(graph1, root)\n",
    "chart1.get_tk_widget().grid(row=1, column=1)\n",
    "London_data['gender'].value_counts().plot(kind='barh',color=['C0','C1'],legend=True,ax=ax1)\n",
    "ax1.set_title('Number of Males and Females')\n",
    "\n",
    "graph2=plt.Figure(figsize=(6,5), dpi=100)\n",
    "ax2=graph2.add_subplot(111)\n",
    "chart2=FigureCanvasTkAgg(graph2, root)\n",
    "chart2.get_tk_widget().grid(row=1, column=2)\n",
    "London_data['self_defined_ethnicity'].value_counts().plot(kind='barh',legend=True,ax=ax2,fontsize=10)\n",
    "ax2.set_title('Ethnicity of people in stop n search')\n",
    "\n",
    "graph3=plt.Figure(figsize=(6,5), dpi=100)\n",
    "ax3=graph3.add_subplot(111)\n",
    "chart3=FigureCanvasTkAgg(graph3, root)\n",
    "chart3.get_tk_widget().grid(row=1, column=3)\n",
    "London_data['age_range'].value_counts().plot(kind='line',legend=True,ax=ax3,color='b',marker='o',fontsize=10)\n",
    "ax3.set_title('Age group of those stopped')\n",
    "\n",
    "\n",
    "root.mainloop()"
   ]
  },
  {
   "cell_type": "code",
   "execution_count": 20,
   "metadata": {},
   "outputs": [
    {
     "data": {
      "image/png": "[encoded data removed]",
      "text/plain": [
       "<Figure size 432x288 with 1 Axes>"
      ]
     },
     "metadata": {
      "needs_background": "light"
     },
     "output_type": "display_data"
    }
   ],
   "source": [
    "root = tk.Tk()\n",
    "root.title('Visualisation of London stop and search data')\n",
    "\n",
    "\n",
    "graph4=plt.Figure(figsize=(6,5), dpi=100)\n",
    "ax1=graph4.add_subplot(111)\n",
    "chart4=FigureCanvasTkAgg(graph4, root)\n",
    "chart4.get_tk_widget().grid(row=1, column=1)\n",
    "London_data['outcome_linked_to_object_of_search'].value_counts().plot(kind='bar',ax=ax1,legend=True, color=['C0','C1']);plt.title('result linked to search')\n",
    "\n",
    "graph5=plt.Figure(figsize=(6,5), dpi=100)\n",
    "ax2=graph5.add_subplot(111)\n",
    "chart5=FigureCanvasTkAgg(graph5, root)\n",
    "chart5.get_tk_widget().grid(row=1, column=2)\n",
    "London_data['removal_of_more_than_outer_clothing'].value_counts().plot(kind='bar',ax=ax2,legend=True,color=['C0','C1']);plt.title('clothes removed')\n",
    "\n",
    "graph6=plt.Figure(figsize=(6,5), dpi=100)\n",
    "ax3=graph6.add_subplot(111)\n",
    "chart6=FigureCanvasTkAgg(graph6, root)\n",
    "chart6.get_tk_widget().grid(row=1, column=3)\n",
    "London_data['object_of_search'].value_counts().plot(kind='barh',legend=True,ax=ax3);plt.title('Object of search')\n",
    "\n",
    "root.mainloop()"
   ]
  },
  {
   "cell_type": "code",
   "execution_count": null,
   "metadata": {},
   "outputs": [],
   "source": []
  }
 ],
 "metadata": {
  "kernelspec": {
   "display_name": "Python 3",
   "language": "python",
   "name": "python3"
  },
  "language_info": {
   "codemirror_mode": {
    "name": "ipython",
    "version": 3
   },
   "file_extension": ".py",
   "mimetype": "text/x-python",
   "name": "python",
   "nbconvert_exporter": "python",
   "pygments_lexer": "ipython3",
   "version": "3.7.6"
  }
 },
 "nbformat": 4,
 "nbformat_minor": 5
}
